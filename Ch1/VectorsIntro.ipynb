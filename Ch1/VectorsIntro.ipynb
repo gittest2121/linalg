{
 "cells": [
  {
   "cell_type": "code",
   "execution_count": 1,
   "id": "03528e99",
   "metadata": {},
   "outputs": [
    {
     "data": {
      "text/plain": [
       "6"
      ]
     },
     "execution_count": 1,
     "metadata": {},
     "output_type": "execute_result"
    }
   ],
   "source": [
    "# Recommended way to represent vectors in Python is to use numpy array.\n",
    "# We can initialize numpy arrays from Python list.\n",
    "# A major advantage of numpy arrays is their ability to perform linear algebra operations\n",
    "\n",
    "from numpy import array\n",
    "k = array([-1.2, 42.5, 114, 0, 5, 0.0])\n",
    "len(k)"
   ]
  },
  {
   "cell_type": "code",
   "execution_count": 2,
   "id": "c5df0934",
   "metadata": {},
   "outputs": [
    {
     "data": {
      "text/plain": [
       "6"
      ]
     },
     "execution_count": 2,
     "metadata": {},
     "output_type": "execute_result"
    }
   ],
   "source": [
    "# Simplest way to represent vectors in Python is using a list structure.\n",
    "x = [-1.2, 42.5, 114, 0, 5, 0.0]\n",
    "len(x)"
   ]
  },
  {
   "cell_type": "code",
   "execution_count": 3,
   "id": "4f44e383",
   "metadata": {},
   "outputs": [],
   "source": [
    "y = (1, 2)\n",
    "# y is a tuple containing two scalars. Neither a list nor a vector."
   ]
  },
  {
   "cell_type": "code",
   "execution_count": 4,
   "id": "4a4e2f87",
   "metadata": {},
   "outputs": [
    {
     "data": {
      "text/plain": [
       "5"
      ]
     },
     "execution_count": 4,
     "metadata": {},
     "output_type": "execute_result"
    }
   ],
   "source": [
    "# Indexing\n",
    "x[4]"
   ]
  },
  {
   "cell_type": "code",
   "execution_count": 5,
   "id": "a71f6981",
   "metadata": {},
   "outputs": [
    {
     "data": {
      "text/plain": [
       "0.0"
      ]
     },
     "execution_count": 5,
     "metadata": {},
     "output_type": "execute_result"
    }
   ],
   "source": [
    "k[3]"
   ]
  },
  {
   "cell_type": "code",
   "execution_count": 6,
   "id": "cf48d46b",
   "metadata": {},
   "outputs": [
    {
     "data": {
      "text/plain": [
       "0.0"
      ]
     },
     "execution_count": 6,
     "metadata": {},
     "output_type": "execute_result"
    }
   ],
   "source": [
    "# Index of last element of array k\n",
    "k[-1]"
   ]
  },
  {
   "cell_type": "code",
   "execution_count": 7,
   "id": "88791d0a",
   "metadata": {},
   "outputs": [],
   "source": [
    "# Assigning\n",
    "y = x"
   ]
  },
  {
   "cell_type": "code",
   "execution_count": 8,
   "id": "dcba5163",
   "metadata": {},
   "outputs": [],
   "source": [
    "# Copying instead of assigning\n",
    "m = x.copy()"
   ]
  },
  {
   "cell_type": "code",
   "execution_count": 9,
   "id": "16be126f",
   "metadata": {},
   "outputs": [
    {
     "data": {
      "text/plain": [
       "[-1.2, 42.5, 40, 0, 5, 0.0]"
      ]
     },
     "execution_count": 9,
     "metadata": {},
     "output_type": "execute_result"
    }
   ],
   "source": [
    "# Changing elements using Indexing on LHS of assignment statement\n",
    "x[2] = 40\n",
    "x"
   ]
  },
  {
   "cell_type": "code",
   "execution_count": 10,
   "id": "4725fd77",
   "metadata": {},
   "outputs": [
    {
     "data": {
      "text/plain": [
       "[-1.2, 42.5, 40, 0, 5, 0.0]"
      ]
     },
     "execution_count": 10,
     "metadata": {},
     "output_type": "execute_result"
    }
   ],
   "source": [
    "y"
   ]
  },
  {
   "cell_type": "code",
   "execution_count": 11,
   "id": "d9093454",
   "metadata": {},
   "outputs": [
    {
     "data": {
      "text/plain": [
       "[-1.2, 42.5, 114, 0, 5, 0.0]"
      ]
     },
     "execution_count": 11,
     "metadata": {},
     "output_type": "execute_result"
    }
   ],
   "source": [
    "m"
   ]
  },
  {
   "cell_type": "code",
   "execution_count": 12,
   "id": "9b08b24d",
   "metadata": {},
   "outputs": [
    {
     "data": {
      "text/plain": [
       "[-1.2, 'Off', 40, 0, 5, 0.0]"
      ]
     },
     "execution_count": 12,
     "metadata": {},
     "output_type": "execute_result"
    }
   ],
   "source": [
    "k = y.copy()\n",
    "k[1] = \"Off\"\n",
    "k"
   ]
  },
  {
   "cell_type": "code",
   "execution_count": 13,
   "id": "24ec599e",
   "metadata": {},
   "outputs": [],
   "source": [
    "f = k.copy()"
   ]
  },
  {
   "cell_type": "code",
   "execution_count": 14,
   "id": "c69253e2",
   "metadata": {},
   "outputs": [
    {
     "data": {
      "text/plain": [
       "True"
      ]
     },
     "execution_count": 14,
     "metadata": {},
     "output_type": "execute_result"
    }
   ],
   "source": [
    "# Vector Equality with numpy array.\n",
    "# Element wise comparison is done.\n",
    "f == k"
   ]
  },
  {
   "cell_type": "code",
   "execution_count": 15,
   "id": "58af3fc4",
   "metadata": {},
   "outputs": [
    {
     "data": {
      "text/plain": [
       "False"
      ]
     },
     "execution_count": 15,
     "metadata": {},
     "output_type": "execute_result"
    }
   ],
   "source": [
    "f[0] = \"Null\"\n",
    "f == k"
   ]
  },
  {
   "cell_type": "code",
   "execution_count": 16,
   "id": "f395ce42",
   "metadata": {},
   "outputs": [
    {
     "data": {
      "text/plain": [
       "True"
      ]
     },
     "execution_count": 16,
     "metadata": {},
     "output_type": "execute_result"
    }
   ],
   "source": [
    "# Vector Equality with list structures\n",
    "y == x"
   ]
  },
  {
   "cell_type": "code",
   "execution_count": 17,
   "id": "27fd8beb",
   "metadata": {},
   "outputs": [
    {
     "data": {
      "text/plain": [
       "True"
      ]
     },
     "execution_count": 17,
     "metadata": {},
     "output_type": "execute_result"
    }
   ],
   "source": [
    "y[0] = \"Hack\"\n",
    "y == x"
   ]
  },
  {
   "cell_type": "code",
   "execution_count": 18,
   "id": "b3514b2b",
   "metadata": {},
   "outputs": [
    {
     "data": {
      "text/plain": [
       "False"
      ]
     },
     "execution_count": 18,
     "metadata": {},
     "output_type": "execute_result"
    }
   ],
   "source": [
    "m[4] = 4+4\n",
    "y == m"
   ]
  },
  {
   "cell_type": "code",
   "execution_count": 19,
   "id": "2826ebd8",
   "metadata": {},
   "outputs": [
    {
     "data": {
      "text/plain": [
       "False"
      ]
     },
     "execution_count": 19,
     "metadata": {},
     "output_type": "execute_result"
    }
   ],
   "source": [
    "a = [4, 4.5, 5, 5.5]\n",
    "b = [7, 6]\n",
    "c = [4, 46, 5, 56]\n",
    "d = array([46, 48])\n",
    "e = array([4, 46, 5, 55])\n",
    "a == b"
   ]
  },
  {
   "cell_type": "code",
   "execution_count": 20,
   "id": "ebaa4f14",
   "metadata": {},
   "outputs": [
    {
     "data": {
      "text/plain": [
       "False"
      ]
     },
     "execution_count": 20,
     "metadata": {},
     "output_type": "execute_result"
    }
   ],
   "source": [
    "a == c"
   ]
  },
  {
   "cell_type": "code",
   "execution_count": 21,
   "id": "4be07261",
   "metadata": {},
   "outputs": [
    {
     "data": {
      "text/plain": [
       "False"
      ]
     },
     "execution_count": 21,
     "metadata": {},
     "output_type": "execute_result"
    }
   ],
   "source": [
    "b == c"
   ]
  },
  {
   "cell_type": "code",
   "execution_count": 22,
   "id": "a62c06e8",
   "metadata": {},
   "outputs": [
    {
     "data": {
      "text/plain": [
       "array([ True, False,  True, False])"
      ]
     },
     "execution_count": 22,
     "metadata": {},
     "output_type": "execute_result"
    }
   ],
   "source": [
    "a == e"
   ]
  },
  {
   "cell_type": "code",
   "execution_count": 23,
   "id": "7da84241",
   "metadata": {},
   "outputs": [
    {
     "name": "stderr",
     "output_type": "stream",
     "text": [
      "C:\\Users\\Test\\AppData\\Local\\Temp/ipykernel_6748/144689061.py:1: DeprecationWarning: elementwise comparison failed; this will raise an error in the future.\n",
      "  a == d\n"
     ]
    },
    {
     "data": {
      "text/plain": [
       "False"
      ]
     },
     "execution_count": 23,
     "metadata": {},
     "output_type": "execute_result"
    }
   ],
   "source": [
    "a == d\n",
    "# I get a warning here when numpy array & list of different lengths are used\n",
    "# It seems numpy is preventing invalid operations.\n",
    "# Deprecated relation."
   ]
  },
  {
   "cell_type": "code",
   "execution_count": 24,
   "id": "b2e5e352",
   "metadata": {},
   "outputs": [
    {
     "name": "stderr",
     "output_type": "stream",
     "text": [
      "C:\\Users\\Test\\AppData\\Local\\Temp/ipykernel_6748/2063342501.py:1: DeprecationWarning: elementwise comparison failed; this will raise an error in the future.\n",
      "  d == e\n"
     ]
    },
    {
     "data": {
      "text/plain": [
       "False"
      ]
     },
     "execution_count": 24,
     "metadata": {},
     "output_type": "execute_result"
    }
   ],
   "source": [
    "d == e\n",
    "# I get a warning here when numpy arrays of different lengths are used.\n",
    "# It seems numpy is preventing invalid operations.\n",
    "# Deprecated Relation"
   ]
  },
  {
   "cell_type": "code",
   "execution_count": 25,
   "id": "daf11016",
   "metadata": {},
   "outputs": [
    {
     "data": {
      "text/plain": [
       "array([ True,  True,  True,  True])"
      ]
     },
     "execution_count": 25,
     "metadata": {},
     "output_type": "execute_result"
    }
   ],
   "source": [
    "e == e"
   ]
  },
  {
   "cell_type": "code",
   "execution_count": 26,
   "id": "94bace6f",
   "metadata": {},
   "outputs": [
    {
     "data": {
      "text/plain": [
       "False"
      ]
     },
     "execution_count": 26,
     "metadata": {},
     "output_type": "execute_result"
    }
   ],
   "source": [
    "x = [46]\n",
    "y = 46\n",
    "x == y"
   ]
  },
  {
   "cell_type": "code",
   "execution_count": 27,
   "id": "0884ec3e",
   "metadata": {},
   "outputs": [
    {
     "data": {
      "text/plain": [
       "True"
      ]
     },
     "execution_count": 27,
     "metadata": {},
     "output_type": "execute_result"
    }
   ],
   "source": [
    "x[0] == 46\n",
    "# This time it follows similar to mathematical notation of Vectors."
   ]
  },
  {
   "cell_type": "code",
   "execution_count": 28,
   "id": "769976d9",
   "metadata": {},
   "outputs": [
    {
     "data": {
      "text/plain": [
       "array([ True])"
      ]
     },
     "execution_count": 28,
     "metadata": {},
     "output_type": "execute_result"
    }
   ],
   "source": [
    "x = array([46])\n",
    "x == y\n",
    "# numpy seems to follow mathematical notation of Vectors"
   ]
  },
  {
   "cell_type": "code",
   "execution_count": 29,
   "id": "3164cdba",
   "metadata": {},
   "outputs": [
    {
     "data": {
      "text/plain": [
       "array([1, 2, 3, 4, 5, 6])"
      ]
     },
     "execution_count": 29,
     "metadata": {},
     "output_type": "execute_result"
    }
   ],
   "source": [
    "# Stacked vectors using list structures\n",
    "fst = [1, 2, 3]\n",
    "sec = [4, 5, 6]\n",
    "from numpy import concatenate\n",
    "mix = concatenate((fst, sec))\n",
    "mix"
   ]
  },
  {
   "cell_type": "code",
   "execution_count": 30,
   "id": "a759e599",
   "metadata": {},
   "outputs": [
    {
     "data": {
      "text/plain": [
       "array([1, 2, 3, 4, 5, 6])"
      ]
     },
     "execution_count": 30,
     "metadata": {},
     "output_type": "execute_result"
    }
   ],
   "source": [
    "# Stacked vectors using numpy\n",
    "fst = array([1, 2, 3])\n",
    "sec = array([4, 5, 6])\n",
    "from numpy import concatenate\n",
    "mix = concatenate((fst, sec))\n",
    "mix"
   ]
  },
  {
   "cell_type": "code",
   "execution_count": 31,
   "id": "b6e32e8a",
   "metadata": {},
   "outputs": [
    {
     "data": {
      "text/plain": [
       "array([1, 2, 3, 4, 5, 6])"
      ]
     },
     "execution_count": 31,
     "metadata": {},
     "output_type": "execute_result"
    }
   ],
   "source": [
    "# Stacked vectors using both\n",
    "fst = [1, 2, 3]\n",
    "sec = array([4, 5, 6])\n",
    "from numpy import concatenate\n",
    "mix = concatenate((fst, sec))\n",
    "mix"
   ]
  },
  {
   "cell_type": "code",
   "execution_count": 32,
   "id": "a956ad8d",
   "metadata": {},
   "outputs": [
    {
     "data": {
      "text/plain": [
       "([1, 2, 3], array([4, 5, 6]))"
      ]
     },
     "execution_count": 32,
     "metadata": {},
     "output_type": "execute_result"
    }
   ],
   "source": [
    "# DANGER: These are not stacked vectors.\n",
    "tst1 = (fst, sec)\n",
    "tst1"
   ]
  },
  {
   "cell_type": "code",
   "execution_count": 33,
   "id": "f4fc80cd",
   "metadata": {},
   "outputs": [
    {
     "data": {
      "text/plain": [
       "[[1, 2, 3], array([4, 5, 6])]"
      ]
     },
     "execution_count": 33,
     "metadata": {},
     "output_type": "execute_result"
    }
   ],
   "source": [
    "# DANGER: These are not stacked vectors.\n",
    "tst_2 = [fst, sec]\n",
    "tst_2"
   ]
  },
  {
   "cell_type": "code",
   "execution_count": 34,
   "id": "3ce41258",
   "metadata": {},
   "outputs": [
    {
     "data": {
      "text/plain": [
       "array([[1, 2, 3],\n",
       "       [4, 5, 6]])"
      ]
     },
     "execution_count": 34,
     "metadata": {},
     "output_type": "execute_result"
    }
   ],
   "source": [
    "# DANGER: These are not stacked vectors.\n",
    "tst3 = array([fst, sec])\n",
    "tst3"
   ]
  },
  {
   "cell_type": "code",
   "execution_count": 35,
   "id": "d58d266c",
   "metadata": {},
   "outputs": [
    {
     "data": {
      "text/plain": [
       "array(['1', '2'], dtype='<U11')"
      ]
     },
     "execution_count": 35,
     "metadata": {},
     "output_type": "execute_result"
    }
   ],
   "source": [
    "# Slicing/Subvectors\n",
    "k = array([\"First\", 1, 2, \"Maybe 3?\", \"0\", 46+444, 4*4])\n",
    "k[1:3]\n",
    "# It seems data types output is trigged when multiple data types and numpy are used"
   ]
  },
  {
   "cell_type": "code",
   "execution_count": 36,
   "id": "4f2ef172",
   "metadata": {},
   "outputs": [
    {
     "data": {
      "text/plain": [
       "[4, 5, 6, 7, 8]"
      ]
     },
     "execution_count": 36,
     "metadata": {},
     "output_type": "execute_result"
    }
   ],
   "source": [
    "m = [4, 5, 6, 7, 8, \"Sleep\"]\n",
    "m[:-1]\n",
    "# Data types not showing up here."
   ]
  },
  {
   "cell_type": "code",
   "execution_count": 37,
   "id": "100e20c7",
   "metadata": {},
   "outputs": [
    {
     "data": {
      "text/plain": [
       "[4, 5, 'shift', '12:50AM', 'A String', 8, 'Sleep']"
      ]
     },
     "execution_count": 37,
     "metadata": {},
     "output_type": "execute_result"
    }
   ],
   "source": [
    "m[2:4] = array([\"shift\", \"12:50AM\", \"A String\"])\n",
    "m"
   ]
  },
  {
   "cell_type": "code",
   "execution_count": 38,
   "id": "cfa0f241",
   "metadata": {
    "scrolled": false
   },
   "outputs": [
    {
     "data": {
      "text/plain": [
       "array(['46', '1', '2', '3', '44'], dtype='<U11')"
      ]
     },
     "execution_count": 38,
     "metadata": {},
     "output_type": "execute_result"
    }
   ],
   "source": [
    "m = array([46, 1, 2, 3, 44, \"What?\"])\n",
    "m[:-1]"
   ]
  },
  {
   "cell_type": "code",
   "execution_count": 39,
   "id": "7a7ad7bd",
   "metadata": {},
   "outputs": [
    {
     "data": {
      "text/plain": [
       "array(['44.54', '-7.5', 'jupyter'], dtype='<U32')"
      ]
     },
     "execution_count": 39,
     "metadata": {},
     "output_type": "execute_result"
    }
   ],
   "source": [
    "m = array([44, 4.0, -7.5, \"jupyter\", \"Wake up\"])\n",
    "m[1] = 44.54\n",
    "m[1:-1]"
   ]
  },
  {
   "cell_type": "code",
   "execution_count": 40,
   "id": "682a0ff9",
   "metadata": {},
   "outputs": [
    {
     "data": {
      "text/plain": [
       "array(['44', '44.54', '-7.5', 'jupyter', 'Wake up'], dtype='<U32')"
      ]
     },
     "execution_count": 40,
     "metadata": {},
     "output_type": "execute_result"
    }
   ],
   "source": [
    "m[0:]"
   ]
  },
  {
   "cell_type": "code",
   "execution_count": 41,
   "id": "c9a16484",
   "metadata": {},
   "outputs": [
    {
     "ename": "ValueError",
     "evalue": "could not broadcast input array from shape (3,) into shape (1,)",
     "output_type": "error",
     "traceback": [
      "\u001b[1;31m---------------------------------------------------------------------------\u001b[0m",
      "\u001b[1;31mValueError\u001b[0m                                Traceback (most recent call last)",
      "\u001b[1;32m~\\AppData\\Local\\Temp/ipykernel_6748/1544375832.py\u001b[0m in \u001b[0;36m<module>\u001b[1;34m\u001b[0m\n\u001b[1;32m----> 1\u001b[1;33m \u001b[0mm\u001b[0m\u001b[1;33m[\u001b[0m\u001b[1;36m3\u001b[0m\u001b[1;33m:\u001b[0m\u001b[1;36m4\u001b[0m\u001b[1;33m]\u001b[0m \u001b[1;33m=\u001b[0m \u001b[1;33m[\u001b[0m\u001b[1;34m\"Why?\"\u001b[0m\u001b[1;33m,\u001b[0m \u001b[1;34m\"Int\"\u001b[0m\u001b[1;33m,\u001b[0m \u001b[1;34m\"No it was string\"\u001b[0m\u001b[1;33m]\u001b[0m\u001b[1;33m;\u001b[0m\u001b[1;33m\u001b[0m\u001b[1;33m\u001b[0m\u001b[0m\n\u001b[0m\u001b[0;32m      2\u001b[0m \u001b[1;31m# Gives a error since lengths are not same\u001b[0m\u001b[1;33m\u001b[0m\u001b[1;33m\u001b[0m\u001b[0m\n",
      "\u001b[1;31mValueError\u001b[0m: could not broadcast input array from shape (3,) into shape (1,)"
     ]
    }
   ],
   "source": [
    "m[3:4] = [\"Why?\", \"Int\", \"No it was string\"];\n",
    "# Gives a error since lengths are not same\n",
    "# It seems Jupyter stops running code here due to errors."
   ]
  },
  {
   "cell_type": "code",
   "execution_count": 42,
   "id": "8332a9fb",
   "metadata": {},
   "outputs": [
    {
     "data": {
      "text/plain": [
       "True"
      ]
     },
     "execution_count": 42,
     "metadata": {},
     "output_type": "execute_result"
    }
   ],
   "source": [
    "m[4] = 44\n",
    "m[0] == m[4]"
   ]
  },
  {
   "cell_type": "code",
   "execution_count": 43,
   "id": "3cc3f1da",
   "metadata": {},
   "outputs": [
    {
     "name": "stdout",
     "output_type": "stream",
     "text": [
      "['44' '44.54' '-7.5' 'jupyter' '44']\n"
     ]
    }
   ],
   "source": [
    "print(m[0:])\n",
    "# Removes the keyword array"
   ]
  },
  {
   "cell_type": "code",
   "execution_count": 44,
   "id": "16d8cbde",
   "metadata": {},
   "outputs": [
    {
     "data": {
      "text/plain": [
       "array(['44.54'], dtype='<U32')"
      ]
     },
     "execution_count": 44,
     "metadata": {},
     "output_type": "execute_result"
    }
   ],
   "source": [
    "# Incremented Indexing\n",
    "m[1:2:4]"
   ]
  },
  {
   "cell_type": "code",
   "execution_count": 45,
   "id": "d9777b18",
   "metadata": {},
   "outputs": [
    {
     "data": {
      "text/plain": [
       "array(['44.54', 'jupyter'], dtype='<U32')"
      ]
     },
     "execution_count": 45,
     "metadata": {},
     "output_type": "execute_result"
    }
   ],
   "source": [
    "m[1:4:2]\n",
    "# This is what we want [start, end, increment]\n",
    "# Has Exceptions bottom."
   ]
  },
  {
   "cell_type": "code",
   "execution_count": 46,
   "id": "757b45b7",
   "metadata": {},
   "outputs": [
    {
     "data": {
      "text/plain": [
       "array(['Useless code', 'jupyter', '-7.5', '44.54', '44'], dtype='<U32')"
      ]
     },
     "execution_count": 46,
     "metadata": {},
     "output_type": "execute_result"
    }
   ],
   "source": [
    "m[-1] = \"Useless code\"\n",
    "m[::-1]\n",
    "# Reversed vector"
   ]
  },
  {
   "cell_type": "code",
   "execution_count": 47,
   "id": "447a0f5d",
   "metadata": {},
   "outputs": [
    {
     "data": {
      "text/plain": [
       "array(['44', '44.54', '-7.5', 'jupyter', 'Sleep fast'], dtype='<U32')"
      ]
     },
     "execution_count": 47,
     "metadata": {},
     "output_type": "execute_result"
    }
   ],
   "source": [
    "m[-1] = \"Sleep fast\"\n",
    "m[0::]"
   ]
  },
  {
   "cell_type": "code",
   "execution_count": 48,
   "id": "cd21cb78",
   "metadata": {},
   "outputs": [
    {
     "data": {
      "text/plain": [
       "array([1, 1, 1])"
      ]
     },
     "execution_count": 48,
     "metadata": {},
     "output_type": "execute_result"
    }
   ],
   "source": [
    "x = array([2, 3, 4, 5])\n",
    "y = array([\"Time\", 2, \"2am?\", \"Sleep\"])\n",
    "x[1:]-x[:-1]\n",
    "# [3,4,5] - [2,3,4,5]"
   ]
  },
  {
   "cell_type": "code",
   "execution_count": 49,
   "id": "7e41b261",
   "metadata": {},
   "outputs": [
    {
     "ename": "UFuncTypeError",
     "evalue": "ufunc 'subtract' did not contain a loop with signature matching types (dtype('<U11'), dtype('<U11')) -> dtype('<U11')",
     "output_type": "error",
     "traceback": [
      "\u001b[1;31m---------------------------------------------------------------------------\u001b[0m",
      "\u001b[1;31mUFuncTypeError\u001b[0m                            Traceback (most recent call last)",
      "\u001b[1;32m~\\AppData\\Local\\Temp/ipykernel_6748/2366139078.py\u001b[0m in \u001b[0;36m<module>\u001b[1;34m\u001b[0m\n\u001b[0;32m      1\u001b[0m \u001b[0mx\u001b[0m \u001b[1;33m=\u001b[0m \u001b[0marray\u001b[0m\u001b[1;33m(\u001b[0m\u001b[1;33m[\u001b[0m\u001b[1;36m2\u001b[0m\u001b[1;33m,\u001b[0m \u001b[1;36m3\u001b[0m\u001b[1;33m,\u001b[0m \u001b[1;36m4\u001b[0m\u001b[1;33m,\u001b[0m \u001b[1;36m5\u001b[0m\u001b[1;33m,\u001b[0m \u001b[1;34m\"Wait\"\u001b[0m\u001b[1;33m]\u001b[0m\u001b[1;33m)\u001b[0m\u001b[1;33m\u001b[0m\u001b[1;33m\u001b[0m\u001b[0m\n\u001b[0;32m      2\u001b[0m \u001b[0my\u001b[0m \u001b[1;33m=\u001b[0m \u001b[0marray\u001b[0m\u001b[1;33m(\u001b[0m\u001b[1;33m[\u001b[0m\u001b[1;34m\"Time\"\u001b[0m\u001b[1;33m,\u001b[0m \u001b[1;36m2\u001b[0m\u001b[1;33m,\u001b[0m \u001b[1;34m\"2am?\"\u001b[0m\u001b[1;33m,\u001b[0m \u001b[1;34m\"Sleep\"\u001b[0m\u001b[1;33m]\u001b[0m\u001b[1;33m)\u001b[0m\u001b[1;33m\u001b[0m\u001b[1;33m\u001b[0m\u001b[0m\n\u001b[1;32m----> 3\u001b[1;33m \u001b[0mx\u001b[0m\u001b[1;33m[\u001b[0m\u001b[1;36m1\u001b[0m\u001b[1;33m:\u001b[0m\u001b[1;33m]\u001b[0m\u001b[1;33m-\u001b[0m\u001b[0mx\u001b[0m\u001b[1;33m[\u001b[0m\u001b[1;33m:\u001b[0m\u001b[1;33m-\u001b[0m\u001b[1;36m1\u001b[0m\u001b[1;33m]\u001b[0m\u001b[1;33m\u001b[0m\u001b[1;33m\u001b[0m\u001b[0m\n\u001b[0m\u001b[0;32m      4\u001b[0m \u001b[1;31m# Something Wrong here. Will fix tommorrow.\u001b[0m\u001b[1;33m\u001b[0m\u001b[1;33m\u001b[0m\u001b[0m\n",
      "\u001b[1;31mUFuncTypeError\u001b[0m: ufunc 'subtract' did not contain a loop with signature matching types (dtype('<U11'), dtype('<U11')) -> dtype('<U11')"
     ]
    }
   ],
   "source": [
    "x = array([2, 3, 4, 5, \"Wait\"])\n",
    "y = array([\"Time\", 2, \"2am?\", \"Sleep\"])\n",
    "x[1:]-x[:-1]\n",
    "# ERROR:\n",
    "# Strings cannot be subtracted in arrays."
   ]
  },
  {
   "cell_type": "code",
   "execution_count": 50,
   "id": "9aef281f",
   "metadata": {},
   "outputs": [
    {
     "ename": "UFuncTypeError",
     "evalue": "ufunc 'subtract' did not contain a loop with signature matching types (dtype('<U11'), dtype('<U11')) -> dtype('<U11')",
     "output_type": "error",
     "traceback": [
      "\u001b[1;31m---------------------------------------------------------------------------\u001b[0m",
      "\u001b[1;31mUFuncTypeError\u001b[0m                            Traceback (most recent call last)",
      "\u001b[1;32m~\\AppData\\Local\\Temp/ipykernel_6748/634643971.py\u001b[0m in \u001b[0;36m<module>\u001b[1;34m\u001b[0m\n\u001b[0;32m      1\u001b[0m \u001b[0mm\u001b[0m \u001b[1;33m=\u001b[0m \u001b[0mx\u001b[0m\u001b[1;33m[\u001b[0m\u001b[1;36m1\u001b[0m\u001b[1;33m:\u001b[0m\u001b[1;33m-\u001b[0m\u001b[1;36m1\u001b[0m\u001b[1;33m]\u001b[0m\u001b[1;33m\u001b[0m\u001b[1;33m\u001b[0m\u001b[0m\n\u001b[1;32m----> 2\u001b[1;33m \u001b[0mx\u001b[0m \u001b[1;33m-\u001b[0m \u001b[0mm\u001b[0m\u001b[1;33m\u001b[0m\u001b[1;33m\u001b[0m\u001b[0m\n\u001b[0m",
      "\u001b[1;31mUFuncTypeError\u001b[0m: ufunc 'subtract' did not contain a loop with signature matching types (dtype('<U11'), dtype('<U11')) -> dtype('<U11')"
     ]
    }
   ],
   "source": [
    "m = x[1:-1]\n",
    "x - m\n",
    "# ERROR:\n",
    "# No matter even if they are same."
   ]
  },
  {
   "cell_type": "code",
   "execution_count": 53,
   "id": "34c6efaf",
   "metadata": {},
   "outputs": [
    {
     "ename": "TypeError",
     "evalue": "unsupported operand type(s) for -: 'list' and 'list'",
     "output_type": "error",
     "traceback": [
      "\u001b[1;31m---------------------------------------------------------------------------\u001b[0m",
      "\u001b[1;31mTypeError\u001b[0m                                 Traceback (most recent call last)",
      "\u001b[1;32m~\\AppData\\Local\\Temp/ipykernel_6748/2426755253.py\u001b[0m in \u001b[0;36m<module>\u001b[1;34m\u001b[0m\n\u001b[0;32m      3\u001b[0m \u001b[0mz\u001b[0m \u001b[1;33m=\u001b[0m \u001b[0mx\u001b[0m\u001b[1;33m\u001b[0m\u001b[1;33m\u001b[0m\u001b[0m\n\u001b[0;32m      4\u001b[0m \u001b[0ma\u001b[0m \u001b[1;33m=\u001b[0m \u001b[0mx\u001b[0m\u001b[1;33m.\u001b[0m\u001b[0mcopy\u001b[0m\u001b[1;33m(\u001b[0m\u001b[1;33m)\u001b[0m\u001b[1;33m\u001b[0m\u001b[1;33m\u001b[0m\u001b[0m\n\u001b[1;32m----> 5\u001b[1;33m \u001b[0mz\u001b[0m\u001b[1;33m-\u001b[0m\u001b[0mx\u001b[0m\u001b[1;33m\u001b[0m\u001b[1;33m\u001b[0m\u001b[0m\n\u001b[0m",
      "\u001b[1;31mTypeError\u001b[0m: unsupported operand type(s) for -: 'list' and 'list'"
     ]
    }
   ],
   "source": [
    "x = [\"T\", \"Y\"]\n",
    "y = [\"Y\", \"J\"]\n",
    "z = x\n",
    "a = x.copy()\n",
    "z-x\n",
    "# List subtraction doesn't exist!"
   ]
  },
  {
   "cell_type": "code",
   "execution_count": 54,
   "id": "b7cb393b",
   "metadata": {},
   "outputs": [
    {
     "data": {
      "text/plain": [
       "array([-38.  ,   1.  ,  70.  , -23.85, -56.15,   2.6 ,  37.4 ,  58.  ])"
      ]
     },
     "execution_count": 54,
     "metadata": {},
     "output_type": "execute_result"
    }
   ],
   "source": [
    "# Vector of first differences\n",
    "# d = x(index=i+1) - x(index=i) for i = 1,2,...n-1\n",
    "x = array([42, 4, 5, 75, 51.15, -5, -2.4, 5*7, 7+86])\n",
    "x[1:]-x[:-1]"
   ]
  },
  {
   "cell_type": "code",
   "execution_count": 56,
   "id": "a9bc6c7c",
   "metadata": {
    "scrolled": true
   },
   "outputs": [
    {
     "data": {
      "text/plain": [
       "58.0"
      ]
     },
     "execution_count": 56,
     "metadata": {},
     "output_type": "execute_result"
    }
   ],
   "source": [
    "x[-1]-x[7]"
   ]
  },
  {
   "cell_type": "code",
   "execution_count": 57,
   "id": "d6709d95",
   "metadata": {},
   "outputs": [
    {
     "data": {
      "text/plain": [
       "array([58.])"
      ]
     },
     "execution_count": 57,
     "metadata": {},
     "output_type": "execute_result"
    }
   ],
   "source": [
    "array([x[-1]-x[7]])\n",
    "# It seems floating point zeros are not shown when in a numpy array"
   ]
  },
  {
   "cell_type": "code",
   "execution_count": 58,
   "id": "c75c31de",
   "metadata": {},
   "outputs": [
    {
     "data": {
      "text/plain": [
       "[[2, 3, 4, 'Py'], [4, 20], ['Sure', 'Jpy', 184]]"
      ]
     },
     "execution_count": 58,
     "metadata": {},
     "output_type": "execute_result"
    }
   ],
   "source": [
    "x = [2, 3, 4, \"Py\"]\n",
    "y = [4, 4*4+4]\n",
    "z = [\"Sure\", \"Jpy\", 46*4]\n",
    "# This is already covered in topic of Non-Stacked vectors\n",
    "list_of_vectors=[x, y, z]\n",
    "tuple_of_vectors=(x, y, z)\n",
    "list_of_vectors"
   ]
  },
  {
   "cell_type": "code",
   "execution_count": 59,
   "id": "998a7ac9",
   "metadata": {},
   "outputs": [
    {
     "data": {
      "text/plain": [
       "['Sure', 'Jpy', 184]"
      ]
     },
     "execution_count": 59,
     "metadata": {},
     "output_type": "execute_result"
    }
   ],
   "source": [
    "list_of_vectors[2]"
   ]
  },
  {
   "cell_type": "code",
   "execution_count": 60,
   "id": "bf0b29d4",
   "metadata": {},
   "outputs": [
    {
     "data": {
      "text/plain": [
       "'Jpy'"
      ]
     },
     "execution_count": 60,
     "metadata": {},
     "output_type": "execute_result"
    }
   ],
   "source": [
    "list_of_vectors[2][1]"
   ]
  },
  {
   "cell_type": "code",
   "execution_count": 61,
   "id": "d38aacd8",
   "metadata": {},
   "outputs": [
    {
     "data": {
      "text/plain": [
       "([2, 3, 4, 'Py'], [4, 20], ['Sure', 'Jpy', 184])"
      ]
     },
     "execution_count": 61,
     "metadata": {},
     "output_type": "execute_result"
    }
   ],
   "source": [
    "tuple_of_vectors"
   ]
  },
  {
   "cell_type": "code",
   "execution_count": 62,
   "id": "7b58d677",
   "metadata": {},
   "outputs": [
    {
     "data": {
      "text/plain": [
       "['Sure', 'Jpy', 184]"
      ]
     },
     "execution_count": 62,
     "metadata": {},
     "output_type": "execute_result"
    }
   ],
   "source": [
    "tuple_of_vectors[2]"
   ]
  },
  {
   "cell_type": "code",
   "execution_count": 63,
   "id": "bb34f466",
   "metadata": {},
   "outputs": [
    {
     "data": {
      "text/plain": [
       "'Jpy'"
      ]
     },
     "execution_count": 63,
     "metadata": {},
     "output_type": "execute_result"
    }
   ],
   "source": [
    "tuple_of_vectors[2][1]\n",
    "# Make sure to remember these aren't stacked/block vectors.\n",
    "# These are either tuples (for this example) or lists/arrays [(array of arrays) or (list of arrays) or (list of lists)]"
   ]
  },
  {
   "cell_type": "code",
   "execution_count": 64,
   "id": "4548221c",
   "metadata": {},
   "outputs": [
    {
     "data": {
      "text/plain": [
       "array([0., 0., 0., 0., 0.])"
      ]
     },
     "execution_count": 64,
     "metadata": {},
     "output_type": "execute_result"
    }
   ],
   "source": [
    "# Zero Vectors\n",
    "from numpy import zeros\n",
    "zeros(5)"
   ]
  },
  {
   "cell_type": "code",
   "execution_count": 65,
   "id": "525e6473",
   "metadata": {},
   "outputs": [
    {
     "data": {
      "text/plain": [
       "array([ True,  True,  True])"
      ]
     },
     "execution_count": 65,
     "metadata": {},
     "output_type": "execute_result"
    }
   ],
   "source": [
    "m = [0, 0, 0]\n",
    "m == zeros(3)"
   ]
  },
  {
   "cell_type": "code",
   "execution_count": 66,
   "id": "c67a217c",
   "metadata": {},
   "outputs": [
    {
     "data": {
      "text/plain": [
       "array([0., 0., 1., 0.])"
      ]
     },
     "execution_count": 66,
     "metadata": {},
     "output_type": "execute_result"
    }
   ],
   "source": [
    "# We don't have any direct keyword for unit vectors.\n",
    "# We create e(index=i), the ith unit vector of length n using index i.\n",
    "# Maybe using zeros?\n",
    "i = 2\n",
    "n = 4\n",
    "x = zeros(n)\n",
    "x[i] = 1\n",
    "x"
   ]
  },
  {
   "cell_type": "code",
   "execution_count": 68,
   "id": "37668d57",
   "metadata": {},
   "outputs": [
    {
     "data": {
      "text/plain": [
       "array([1., 1., 1., 1., 1., 1., 1.])"
      ]
     },
     "execution_count": 68,
     "metadata": {},
     "output_type": "execute_result"
    }
   ],
   "source": [
    "# Ones vector\n",
    "from numpy import ones\n",
    "t = ones(7)\n",
    "t"
   ]
  },
  {
   "cell_type": "code",
   "execution_count": 69,
   "id": "b4302371",
   "metadata": {},
   "outputs": [
    {
     "name": "stdout",
     "output_type": "stream",
     "text": [
      "[1. 1. 1. 1. 1. 1. 1.]\n"
     ]
    }
   ],
   "source": [
    "print(t)"
   ]
  },
  {
   "cell_type": "code",
   "execution_count": 71,
   "id": "d9b6679a",
   "metadata": {},
   "outputs": [
    {
     "data": {
      "text/plain": [
       "array([0.70452782, 0.89760782, 0.48855475, 0.11976593])"
      ]
     },
     "execution_count": 71,
     "metadata": {},
     "output_type": "execute_result"
    }
   ],
   "source": [
    "from numpy import random\n",
    "random.random(4)"
   ]
  }
 ],
 "metadata": {
  "kernelspec": {
   "display_name": "Python 3 (ipykernel)",
   "language": "python",
   "name": "python3"
  },
  "language_info": {
   "codemirror_mode": {
    "name": "ipython",
    "version": 3
   },
   "file_extension": ".py",
   "mimetype": "text/x-python",
   "name": "python",
   "nbconvert_exporter": "python",
   "pygments_lexer": "ipython3",
   "version": "3.9.7"
  }
 },
 "nbformat": 4,
 "nbformat_minor": 5
}
