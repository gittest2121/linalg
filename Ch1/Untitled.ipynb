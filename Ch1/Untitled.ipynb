{
 "cells": [
  {
   "cell_type": "code",
   "execution_count": 1,
   "id": "e15dd7f4",
   "metadata": {},
   "outputs": [
    {
     "data": {
      "text/plain": [
       "array([ 8., 77.])"
      ]
     },
     "execution_count": 1,
     "metadata": {},
     "output_type": "execute_result"
    }
   ],
   "source": [
    "# Vector addition & subtraction\n",
    "from numpy import array as ar\n",
    "x = ar([4, 5])\n",
    "y = ar([4*4/4, 7+65])\n",
    "x+y\n",
    "# len(x) must be equal to len(y)\n",
    "# No Strings as elements!\n",
    "# dtype('<U32') are only supported!"
   ]
  },
  {
   "cell_type": "code",
   "execution_count": 2,
   "id": "1aa874e3",
   "metadata": {},
   "outputs": [
    {
     "data": {
      "text/plain": [
       "array([  0., -67.])"
      ]
     },
     "execution_count": 2,
     "metadata": {},
     "output_type": "execute_result"
    }
   ],
   "source": [
    "x-y\n",
    "# Lists, unlike numpy arrays, don't need lengths to be same.\n",
    "# But they don't do vector operators!!!"
   ]
  },
  {
   "cell_type": "code",
   "execution_count": 3,
   "id": "e0f39bdf",
   "metadata": {},
   "outputs": [
    {
     "data": {
      "text/plain": [
       "[4, 5, 6, 7, 8, 9]"
      ]
     },
     "execution_count": 3,
     "metadata": {},
     "output_type": "execute_result"
    }
   ],
   "source": [
    "x = [4, 5, 6]\n",
    "y = [7, 8, 9]\n",
    "x+y\n",
    "# They just concatenate rather than adding."
   ]
  },
  {
   "cell_type": "code",
   "execution_count": 4,
   "id": "2c6b970e",
   "metadata": {},
   "outputs": [
    {
     "ename": "TypeError",
     "evalue": "unsupported operand type(s) for -: 'list' and 'list'",
     "output_type": "error",
     "traceback": [
      "\u001b[1;31m---------------------------------------------------------------------------\u001b[0m",
      "\u001b[1;31mTypeError\u001b[0m                                 Traceback (most recent call last)",
      "\u001b[1;32m~\\AppData\\Local\\Temp/ipykernel_7108/2249540083.py\u001b[0m in \u001b[0;36m<module>\u001b[1;34m\u001b[0m\n\u001b[1;32m----> 1\u001b[1;33m \u001b[0mx\u001b[0m\u001b[1;33m-\u001b[0m\u001b[0my\u001b[0m\u001b[1;33m\u001b[0m\u001b[1;33m\u001b[0m\u001b[0m\n\u001b[0m\u001b[0;32m      2\u001b[0m \u001b[1;31m# You cannot subtract lists.\u001b[0m\u001b[1;33m\u001b[0m\u001b[1;33m\u001b[0m\u001b[0m\n",
      "\u001b[1;31mTypeError\u001b[0m: unsupported operand type(s) for -: 'list' and 'list'"
     ]
    }
   ],
   "source": [
    "x-y\n",
    "# You cannot subtract lists."
   ]
  },
  {
   "cell_type": "code",
   "execution_count": 5,
   "id": "2929f31a",
   "metadata": {},
   "outputs": [
    {
     "data": {
      "text/plain": [
       "array([ 4.,  5.,  4., 72.])"
      ]
     },
     "execution_count": 5,
     "metadata": {},
     "output_type": "execute_result"
    }
   ],
   "source": [
    "x = ar([4, 5])\n",
    "y = ar([4*4/4, 7+65])\n",
    "from numpy import concatenate as ct\n",
    "ct((x, y)) # Remember two parenthesis"
   ]
  },
  {
   "cell_type": "code",
   "execution_count": 6,
   "id": "96255889",
   "metadata": {},
   "outputs": [
    {
     "name": "stdout",
     "output_type": "stream",
     "text": [
      "Sum of arrays: [ 8. 77.]\n"
     ]
    }
   ],
   "source": [
    "print('Sum of arrays:', x+y)"
   ]
  },
  {
   "cell_type": "code",
   "execution_count": 7,
   "id": "7fbcb6aa",
   "metadata": {},
   "outputs": [
    {
     "data": {
      "text/plain": [
       "array([ 4,  8, 12])"
      ]
     },
     "execution_count": 7,
     "metadata": {},
     "output_type": "execute_result"
    }
   ],
   "source": [
    "# Scalar Vector multiplication & divison\n",
    "x = ar([1,2,3])\n",
    "4*x"
   ]
  },
  {
   "cell_type": "code",
   "execution_count": 8,
   "id": "bf933816",
   "metadata": {},
   "outputs": [
    {
     "data": {
      "text/plain": [
       "array([0.25, 0.5 , 0.75])"
      ]
     },
     "execution_count": 8,
     "metadata": {},
     "output_type": "execute_result"
    }
   ],
   "source": [
    "x/4\n",
    "# Beware of Python 2!\n",
    "# For Python 2.x, integer division is used when you use the operator / on scalars.\n",
    "# For example, 5/2 gives you 2. You can avoid this problem by adding decimals to the\n",
    "# integer, i.e., 5.0/2. This gives you 2.5."
   ]
  },
  {
   "cell_type": "code",
   "execution_count": 9,
   "id": "563b40e2",
   "metadata": {},
   "outputs": [
    {
     "name": "stdout",
     "output_type": "stream",
     "text": [
      "https://en.wikipedia.org/wiki/Docstring\n"
     ]
    }
   ],
   "source": [
    "# Python doesn't really have any syntax for multi-line comments.\n",
    "# There's a way.\n",
    "# Credits: https://stackoverflow.com/a/7696966\n",
    "''' \n",
    "You can use triple-quoted strings. When they're not a docstring (the first thing in a class/function/module)\n",
    ", they are ignored.\n",
    "'''\n",
    "\n",
    "print(\"https://en.wikipedia.org/wiki/Docstring\")"
   ]
  },
  {
   "cell_type": "code",
   "execution_count": 10,
   "id": "c77e0d77",
   "metadata": {},
   "outputs": [
    {
     "data": {
      "text/plain": [
       "array([3, 4, 5])"
      ]
     },
     "execution_count": 10,
     "metadata": {},
     "output_type": "execute_result"
    }
   ],
   "source": [
    "# Scalar vector addition\n",
    "# This is not a mathematical notation.\n",
    "x+2"
   ]
  },
  {
   "cell_type": "code",
   "execution_count": 11,
   "id": "b9eedab6",
   "metadata": {},
   "outputs": [
    {
     "name": "stdout",
     "output_type": "stream",
     "text": [
      "[1 2 3]\n"
     ]
    },
    {
     "ename": "TypeError",
     "evalue": "unsupported operand type(s) for +: 'NoneType' and 'int'",
     "output_type": "error",
     "traceback": [
      "\u001b[1;31m---------------------------------------------------------------------------\u001b[0m",
      "\u001b[1;31mTypeError\u001b[0m                                 Traceback (most recent call last)",
      "\u001b[1;32m~\\AppData\\Local\\Temp/ipykernel_7108/3847713466.py\u001b[0m in \u001b[0;36m<module>\u001b[1;34m\u001b[0m\n\u001b[0;32m      1\u001b[0m \u001b[0my\u001b[0m \u001b[1;33m=\u001b[0m \u001b[0mprint\u001b[0m\u001b[1;33m(\u001b[0m\u001b[0mx\u001b[0m\u001b[1;33m)\u001b[0m\u001b[1;33m\u001b[0m\u001b[1;33m\u001b[0m\u001b[0m\n\u001b[1;32m----> 2\u001b[1;33m \u001b[0my\u001b[0m\u001b[1;33m+\u001b[0m\u001b[1;36m2\u001b[0m\u001b[1;33m\u001b[0m\u001b[1;33m\u001b[0m\u001b[0m\n\u001b[0m\u001b[0;32m      3\u001b[0m \u001b[1;31m# Fail! List here.\u001b[0m\u001b[1;33m\u001b[0m\u001b[1;33m\u001b[0m\u001b[0m\n",
      "\u001b[1;31mTypeError\u001b[0m: unsupported operand type(s) for +: 'NoneType' and 'int'"
     ]
    }
   ],
   "source": [
    "y = print(x)\n",
    "y+2\n",
    "# Fail! List here."
   ]
  },
  {
   "cell_type": "code",
   "execution_count": 12,
   "id": "e7761173",
   "metadata": {},
   "outputs": [
    {
     "data": {
      "text/plain": [
       "array([ 0.04063205, -0.0223914 , -0.06411837])"
      ]
     },
     "execution_count": 12,
     "metadata": {},
     "output_type": "execute_result"
    }
   ],
   "source": [
    "# Playing with elementwise operations\n",
    "import numpy as np\n",
    "p_initial = np.array([22.15, 89.32, 56.77])\n",
    "p_final = np.array([23.05, 87.32, 53.13])\n",
    "r = (p_final - p_initial) / p_initial\n",
    "r"
   ]
  },
  {
   "cell_type": "code",
   "execution_count": 13,
   "id": "fa3aa013",
   "metadata": {},
   "outputs": [
    {
     "ename": "TypeError",
     "evalue": "unsupported operand type(s) for -: 'list' and 'list'",
     "output_type": "error",
     "traceback": [
      "\u001b[1;31m---------------------------------------------------------------------------\u001b[0m",
      "\u001b[1;31mTypeError\u001b[0m                                 Traceback (most recent call last)",
      "\u001b[1;32m~\\AppData\\Local\\Temp/ipykernel_7108/3358612916.py\u001b[0m in \u001b[0;36m<module>\u001b[1;34m\u001b[0m\n\u001b[0;32m      2\u001b[0m \u001b[0mp_initial\u001b[0m \u001b[1;33m=\u001b[0m \u001b[1;33m[\u001b[0m\u001b[1;36m22.15\u001b[0m\u001b[1;33m,\u001b[0m \u001b[1;36m89.32\u001b[0m\u001b[1;33m,\u001b[0m \u001b[1;36m56.77\u001b[0m\u001b[1;33m]\u001b[0m\u001b[1;33m\u001b[0m\u001b[1;33m\u001b[0m\u001b[0m\n\u001b[0;32m      3\u001b[0m \u001b[0mp_final\u001b[0m \u001b[1;33m=\u001b[0m \u001b[1;33m[\u001b[0m\u001b[1;36m23.05\u001b[0m\u001b[1;33m,\u001b[0m \u001b[1;36m87.32\u001b[0m\u001b[1;33m,\u001b[0m \u001b[1;36m53.13\u001b[0m\u001b[1;33m]\u001b[0m\u001b[1;33m\u001b[0m\u001b[1;33m\u001b[0m\u001b[0m\n\u001b[1;32m----> 4\u001b[1;33m \u001b[0mr\u001b[0m \u001b[1;33m=\u001b[0m \u001b[1;33m(\u001b[0m\u001b[0mp_final\u001b[0m \u001b[1;33m-\u001b[0m \u001b[0mp_initial\u001b[0m\u001b[1;33m)\u001b[0m \u001b[1;33m/\u001b[0m \u001b[0mp_initial\u001b[0m\u001b[1;33m\u001b[0m\u001b[1;33m\u001b[0m\u001b[0m\n\u001b[0m\u001b[0;32m      5\u001b[0m \u001b[0mr\u001b[0m\u001b[1;33m\u001b[0m\u001b[1;33m\u001b[0m\u001b[0m\n\u001b[0;32m      6\u001b[0m \u001b[1;31m# Lists doesn't support these.\u001b[0m\u001b[1;33m\u001b[0m\u001b[1;33m\u001b[0m\u001b[0m\n",
      "\u001b[1;31mTypeError\u001b[0m: unsupported operand type(s) for -: 'list' and 'list'"
     ]
    }
   ],
   "source": [
    "import numpy as np\n",
    "p_initial = [22.15, 89.32, 56.77]\n",
    "p_final = [23.05, 87.32, 53.13]\n",
    "r = (p_final - p_initial) / p_initial\n",
    "r\n",
    "# Lists doesn't support these."
   ]
  },
  {
   "cell_type": "code",
   "execution_count": 14,
   "id": "7ec5045b",
   "metadata": {},
   "outputs": [
    {
     "data": {
      "text/plain": [
       "array([4., 5.])"
      ]
     },
     "execution_count": 14,
     "metadata": {},
     "output_type": "execute_result"
    }
   ],
   "source": [
    "# Linear Combination of Vectors\n",
    "import numpy as np\n",
    "a = np.array([1,2])\n",
    "b = np.array([3,4])\n",
    "alpha = -0.5\n",
    "beta = 1.5\n",
    "c = alpha*a + beta*b\n",
    "c\n",
    "# This can be written in another form."
   ]
  },
  {
   "cell_type": "code",
   "execution_count": 15,
   "id": "29b00281",
   "metadata": {},
   "outputs": [
    {
     "name": "stdout",
     "output_type": "stream",
     "text": [
      "These are comments\n"
     ]
    }
   ],
   "source": [
    "'''\n",
    "Define a function named lincomb with arguments coeff & vectors\n",
    "Consider the length of first entry of vectors to be n\n",
    "Consider \"comb\" as a zero vector of length n\n",
    "for i in range of length of vectors\n",
    "    add coeff*vectors\n",
    "    return comb\n",
    "'''\n",
    "print(\"These are comments\")"
   ]
  },
  {
   "cell_type": "code",
   "execution_count": 16,
   "id": "c1a7d54e",
   "metadata": {},
   "outputs": [
    {
     "data": {
      "text/plain": [
       "array([-0.5, -1. ])"
      ]
     },
     "execution_count": 16,
     "metadata": {},
     "output_type": "execute_result"
    }
   ],
   "source": [
    "# How does this pseudocode work?\n",
    "coeff = [a, b]\n",
    "vectors = [alpha, beta]\n",
    "n = 2\n",
    "comb = np.zeros(2)\n",
    "# We have a zero vector of size 2 here.\n",
    "# a*alpha\n",
    "comb += coeff[0]*vectors[0]\n",
    "comb"
   ]
  },
  {
   "cell_type": "code",
   "execution_count": 17,
   "id": "1d45ba56",
   "metadata": {},
   "outputs": [
    {
     "data": {
      "text/plain": [
       "[array([1, 2]), array([3, 4])]"
      ]
     },
     "execution_count": 17,
     "metadata": {},
     "output_type": "execute_result"
    }
   ],
   "source": [
    "coeff"
   ]
  },
  {
   "cell_type": "code",
   "execution_count": 18,
   "id": "09c531af",
   "metadata": {},
   "outputs": [
    {
     "data": {
      "text/plain": [
       "array([4., 5.])"
      ]
     },
     "execution_count": 18,
     "metadata": {},
     "output_type": "execute_result"
    }
   ],
   "source": [
    "# +b*beta\n",
    "comb += coeff[1]*vectors[1]\n",
    "# There is no coeff[2] or vectors[2]\n",
    "comb"
   ]
  },
  {
   "cell_type": "code",
   "execution_count": 19,
   "id": "ecc7ac40",
   "metadata": {},
   "outputs": [],
   "source": [
    "def lincomb(coeff, vectors):\n",
    "    n = len(vectors[0])\n",
    "    comb = np.zeros(n)\n",
    "    for i in range(len(vectors)):\n",
    "        comb += coeff[i]*vectors[i]\n",
    "    return comb"
   ]
  },
  {
   "cell_type": "code",
   "execution_count": 20,
   "id": "d1ad8e55",
   "metadata": {},
   "outputs": [
    {
     "data": {
      "text/plain": [
       "array([4., 5.])"
      ]
     },
     "execution_count": 20,
     "metadata": {},
     "output_type": "execute_result"
    }
   ],
   "source": [
    "lincomb([alpha, beta], [a,b])"
   ]
  },
  {
   "cell_type": "code",
   "execution_count": 21,
   "id": "b212a22d",
   "metadata": {},
   "outputs": [
    {
     "name": "stdout",
     "output_type": "stream",
     "text": [
      "25\n",
      "35\n"
     ]
    }
   ],
   "source": [
    "# Working of sum keyword\n",
    "numbers = [1,2,3,4,5,1,4,5]\n",
    "  \n",
    "# start parameter is not provided\n",
    "Sum = sum(numbers)\n",
    "print(Sum)\n",
    "  \n",
    "# start = 10\n",
    "Sum = sum(numbers, 10)\n",
    "print(Sum)"
   ]
  },
  {
   "cell_type": "code",
   "execution_count": 22,
   "id": "21ec30ff",
   "metadata": {},
   "outputs": [],
   "source": [
    "# There is still another way!\n",
    "def lincom(coef, vectors):\n",
    "    return sum(coef[i]*vectors[i] for i in range(len(vectors)))"
   ]
  },
  {
   "cell_type": "code",
   "execution_count": 23,
   "id": "5fb6c5c9",
   "metadata": {},
   "outputs": [
    {
     "data": {
      "text/plain": [
       "array([4., 5.])"
      ]
     },
     "execution_count": 23,
     "metadata": {},
     "output_type": "execute_result"
    }
   ],
   "source": [
    "lincom([alpha, beta], [a,b])"
   ]
  },
  {
   "cell_type": "code",
   "execution_count": 24,
   "id": "3510a394",
   "metadata": {},
   "outputs": [],
   "source": [
    "# For scalar!\n",
    "def lincom(coef, vectors):\n",
    "    return sum(coef*vectors[i] for i in range(len(vectors)))"
   ]
  },
  {
   "cell_type": "code",
   "execution_count": 25,
   "id": "5cf21122",
   "metadata": {},
   "outputs": [
    {
     "data": {
      "text/plain": [
       "array([-2.,  9.])"
      ]
     },
     "execution_count": 25,
     "metadata": {},
     "output_type": "execute_result"
    }
   ],
   "source": [
    "lincom([alpha, beta], [a,b])"
   ]
  },
  {
   "cell_type": "code",
   "execution_count": 26,
   "id": "e0e81307",
   "metadata": {},
   "outputs": [
    {
     "name": "stdout",
     "output_type": "stream",
     "text": [
      "Method?\n"
     ]
    }
   ],
   "source": [
    "# So, how did this work?\n",
    "'''\n",
    "Defining function with arguments\n",
    "return a value of sum of (coef[i]*vectors[i]) when i is in range of size of vectors'''\n",
    "\n",
    "print(\"Method?\")"
   ]
  },
  {
   "cell_type": "code",
   "execution_count": 27,
   "id": "5fd0971f",
   "metadata": {},
   "outputs": [],
   "source": [
    "# Check distributive property\n",
    "def distribut(a, b, const):\n",
    "    print(\"LHS const*(a+b): \", const*(a+b))\n",
    "    print(\"\\nRHS const*a+const*b: \", lincom(const, [a, b]))"
   ]
  },
  {
   "cell_type": "code",
   "execution_count": 28,
   "id": "0acfc39e",
   "metadata": {},
   "outputs": [
    {
     "name": "stdout",
     "output_type": "stream",
     "text": [
      "LHS const*(a+b):  [160 240]\n",
      "\n",
      "RHS const*a+const*b:  [160 240]\n",
      "LHS const*(a+b):  [160 240]\n",
      "\n",
      "RHS const*a+const*b:  [160 240]\n"
     ]
    }
   ],
   "source": [
    "from numpy import array as ar\n",
    "a = ar([1, 2])\n",
    "b = ar([3, 4])\n",
    "const = ar([40])\n",
    "d = distribut(a, b, const)\n",
    "distribut(a, b, const)"
   ]
  },
  {
   "cell_type": "code",
   "execution_count": 29,
   "id": "4654eac0",
   "metadata": {},
   "outputs": [
    {
     "data": {
      "text/plain": [
       "array([160, 240])"
      ]
     },
     "execution_count": 29,
     "metadata": {},
     "output_type": "execute_result"
    }
   ],
   "source": [
    "const[0]*a+const[0]*b"
   ]
  },
  {
   "cell_type": "code",
   "execution_count": 30,
   "id": "aca9deaf",
   "metadata": {},
   "outputs": [
    {
     "data": {
      "text/plain": [
       "array([40, 80])"
      ]
     },
     "execution_count": 30,
     "metadata": {},
     "output_type": "execute_result"
    }
   ],
   "source": [
    "const[0]*a"
   ]
  },
  {
   "cell_type": "code",
   "execution_count": 31,
   "id": "bbf96ad3",
   "metadata": {},
   "outputs": [
    {
     "data": {
      "text/plain": [
       "array([160, 240])"
      ]
     },
     "execution_count": 31,
     "metadata": {},
     "output_type": "execute_result"
    }
   ],
   "source": [
    "c = (a+b)*const\n",
    "c"
   ]
  },
  {
   "cell_type": "code",
   "execution_count": 32,
   "id": "2b01b843",
   "metadata": {},
   "outputs": [
    {
     "data": {
      "text/plain": [
       "array([False, False])"
      ]
     },
     "execution_count": 32,
     "metadata": {},
     "output_type": "execute_result"
    }
   ],
   "source": [
    "c == d"
   ]
  },
  {
   "cell_type": "code",
   "execution_count": 33,
   "id": "c8d456cd",
   "metadata": {},
   "outputs": [
    {
     "data": {
      "text/plain": [
       "11"
      ]
     },
     "execution_count": 33,
     "metadata": {},
     "output_type": "execute_result"
    }
   ],
   "source": [
    "# Inner Product\n",
    "np.inner(a, b)"
   ]
  },
  {
   "cell_type": "code",
   "execution_count": 34,
   "id": "759db8a4",
   "metadata": {},
   "outputs": [
    {
     "data": {
      "text/plain": [
       "11"
      ]
     },
     "execution_count": 34,
     "metadata": {},
     "output_type": "execute_result"
    }
   ],
   "source": [
    "# Another method for Inner Product\n",
    "a @ b"
   ]
  },
  {
   "cell_type": "code",
   "execution_count": 35,
   "id": "c5dc68b4",
   "metadata": {},
   "outputs": [
    {
     "name": "stdout",
     "output_type": "stream",
     "text": [
      "1.236162401468524\n"
     ]
    }
   ],
   "source": [
    "# Example - Net present value\n",
    "c = np.array([0.1,0.1,0.1,1.1]) #cash flow vector\n",
    "n = len(c)\n",
    "r = 0.05 #5% per-period interest rate\n",
    "d = np.array([(1+r)**-i for i in range(n)])\n",
    "# In the fifth line, to get the vector d we raise the scalar 1+r element-wise to the powers\n",
    "# given in the range range(n) which expands to 0, 1,2, ..., n-1, using list compre\u0002hension.\n",
    "NPV = c @ d\n",
    "print(NPV)"
   ]
  },
  {
   "cell_type": "code",
   "execution_count": 36,
   "id": "93c45c5e",
   "metadata": {},
   "outputs": [
    {
     "name": "stdout",
     "output_type": "stream",
     "text": [
      "2.7755575615628914e-17\n"
     ]
    }
   ],
   "source": [
    "# Complexity of Vector Computations\n",
    "# Floating point operations\n",
    "a = np.random.random()\n",
    "b = np.random.random()\n",
    "lhs = (a+b) * (a-b)\n",
    "rhs = a**2 - b**2\n",
    "print(lhs - rhs)\n",
    "# There are very small floating point round-off errors"
   ]
  },
  {
   "cell_type": "code",
   "execution_count": 37,
   "id": "65b233d0",
   "metadata": {},
   "outputs": [
    {
     "name": "stdout",
     "output_type": "stream",
     "text": [
      "0.00699615478515625\n"
     ]
    }
   ],
   "source": [
    "# Time Complexity\n",
    "# You can time a Python command using a time package\n",
    "# The timer is not very accurate for small times, say microseconds\n",
    "# If you run the command more than once; it can be a lot faster on the second or\n",
    "# subsequent runs.\n",
    "from time import time\n",
    "a = np.random.random(10**5)\n",
    "b = np.random.random(10**5)\n",
    "start = time()\n",
    "a @ b\n",
    "end = time()\n",
    "print(end-start)"
   ]
  },
  {
   "cell_type": "code",
   "execution_count": 38,
   "id": "cc2c5d9f",
   "metadata": {},
   "outputs": [
    {
     "name": "stdout",
     "output_type": "stream",
     "text": [
      "0.0\n"
     ]
    }
   ],
   "source": [
    "start = time()\n",
    "a @ b\n",
    "end = time()\n",
    "print(end-start)"
   ]
  },
  {
   "cell_type": "code",
   "execution_count": 39,
   "id": "3e9e2a1c",
   "metadata": {},
   "outputs": [
    {
     "name": "stdout",
     "output_type": "stream",
     "text": [
      "0.0\n"
     ]
    }
   ],
   "source": [
    "start = time()\n",
    "(a @ b)**26\n",
    "end = time()\n",
    "print(end-start)"
   ]
  },
  {
   "cell_type": "code",
   "execution_count": 40,
   "id": "ef4b13bf",
   "metadata": {},
   "outputs": [
    {
     "data": {
      "text/plain": [
       "<4x4 sparse matrix of type '<class 'numpy.int32'>'\n",
       "\twith 4 stored elements in COOrdinate format>"
      ]
     },
     "execution_count": 40,
     "metadata": {},
     "output_type": "execute_result"
    }
   ],
   "source": [
    "# Creating sparse vectors\n",
    "# Functions for creating and manipulating sparse vectors are contained in the Python package scipy.sparse\n",
    "# 7 classes of sparse structure in the package\n",
    "# Sparse vectors are stored as sparse matrices, i.e., only the nonzero elements are stored\n",
    "'''\n",
    "The scipy.sparse.coo_matrix() function create a sparse matrix from three arrays that \n",
    "specify the row indexes, column indexes and values of the nonzero elements.\n",
    "\n",
    "coo_matrix((data, (i, j)), [shape=(M, N)])\n",
    "\n",
    "To construct from three arrays:\n",
    "data[:] the entries of the matrix, in any order\n",
    "\n",
    "i[:] the row indices of the matrix entries\n",
    "\n",
    "j[:] the column indices of the matrix entries\n",
    "\n",
    "Where A[i[k], j[k]] = data[k]. When shape is not specified, it is inferred from the index arrays\n",
    "'''\n",
    "\n",
    "\n",
    "'''\n",
    "A better understanding for myself\n",
    "coo_matrix((data, (i, j)), shape=(m, n))\n",
    "\n",
    "Consider data = [5, 4, 7, 3]\n",
    "And i, j be two matrices as\n",
    "i = [0, 3, 1, 2]\n",
    "j = [0, 3, 0, 1]\n",
    "\n",
    "When you use this function, you are essentially stating that data[i] entry should be at place i[i]*j[i], here [i] states index\n",
    "for data[1] = 4\n",
    "It is placed at i[1]*j[1] = 3*3\n",
    "In coo_matrix, the entry of 3*3 is 4.\n",
    "\n",
    "As for shape, it is the size, (if specified). Else it would be inferred from index arrays.\n",
    "'''\n",
    "\n",
    "data = [5, 4, 7, 3]\n",
    "i = [0, 3, 1, 2]\n",
    "j = [0, 3, 0, 1]\n",
    "from scipy.sparse import coo_matrix\n",
    "coo_matrix((data, (i, j)), shape=(4, 4))"
   ]
  },
  {
   "cell_type": "code",
   "execution_count": 41,
   "id": "35c74dfc",
   "metadata": {},
   "outputs": [
    {
     "data": {
      "text/plain": [
       "array([[5, 0, 0, 0],\n",
       "       [7, 0, 0, 0],\n",
       "       [0, 3, 0, 0],\n",
       "       [0, 0, 0, 4]])"
      ]
     },
     "execution_count": 41,
     "metadata": {},
     "output_type": "execute_result"
    }
   ],
   "source": [
    "# Represent this as an array\n",
    "coo_data = coo_matrix((data, (i, j)), shape=(4, 4)).toarray()\n",
    "coo_data"
   ]
  },
  {
   "cell_type": "code",
   "execution_count": 42,
   "id": "69ddff38",
   "metadata": {},
   "outputs": [
    {
     "data": {
      "text/plain": [
       "7"
      ]
     },
     "execution_count": 42,
     "metadata": {},
     "output_type": "execute_result"
    }
   ],
   "source": [
    "# Finding Maximum value in an array\n",
    "np.max(coo_data)"
   ]
  },
  {
   "cell_type": "code",
   "execution_count": 43,
   "id": "d9ed91eb",
   "metadata": {},
   "outputs": [
    {
     "data": {
      "text/plain": [
       "0"
      ]
     },
     "execution_count": 43,
     "metadata": {},
     "output_type": "execute_result"
    }
   ],
   "source": [
    "# Minimum value in an array\n",
    "np.min(coo_data)"
   ]
  },
  {
   "cell_type": "code",
   "execution_count": 44,
   "id": "927a1bd9",
   "metadata": {},
   "outputs": [
    {
     "data": {
      "text/plain": [
       "<10000x1 sparse matrix of type '<class 'numpy.int32'>'\n",
       "\twith 4 stored elements in COOrdinate format>"
      ]
     },
     "execution_count": 44,
     "metadata": {},
     "output_type": "execute_result"
    }
   ],
   "source": [
    "# Example\n",
    "I = np.array([4,7,8,9])\n",
    "J = np.array([0,0,0,0])\n",
    "V = np.array([100,200,300,400])\n",
    "A = coo_matrix((V,(I,J)),shape = (10000,1))\n",
    "A"
   ]
  },
  {
   "cell_type": "code",
   "execution_count": 45,
   "id": "816712a9",
   "metadata": {},
   "outputs": [
    {
     "data": {
      "text/plain": [
       "array([[0],\n",
       "       [0],\n",
       "       [0],\n",
       "       ...,\n",
       "       [0],\n",
       "       [0],\n",
       "       [0]])"
      ]
     },
     "execution_count": 45,
     "metadata": {},
     "output_type": "execute_result"
    }
   ],
   "source": [
    "A.toarray()"
   ]
  },
  {
   "cell_type": "code",
   "execution_count": 46,
   "id": "b2f523b6",
   "metadata": {},
   "outputs": [
    {
     "data": {
      "text/plain": [
       "matrix([[0],\n",
       "        [0],\n",
       "        [0],\n",
       "        ...,\n",
       "        [0],\n",
       "        [0],\n",
       "        [0]])"
      ]
     },
     "execution_count": 46,
     "metadata": {},
     "output_type": "execute_result"
    }
   ],
   "source": [
    "A.todense()"
   ]
  },
  {
   "cell_type": "code",
   "execution_count": 47,
   "id": "98e18515",
   "metadata": {},
   "outputs": [
    {
     "name": "stdout",
     "output_type": "stream",
     "text": [
      "https://stackoverflow.com/a/30416739\n"
     ]
    }
   ],
   "source": [
    "# toarray returns an ndarray; todense returns a matrix. If you want a matrix, use todense; otherwise, use toarray.\n",
    "# Credits: https://stackoverflow.com/a/30416739\n",
    "print(\"https://stackoverflow.com/a/30416739\")"
   ]
  }
 ],
 "metadata": {
  "kernelspec": {
   "display_name": "Python 3 (ipykernel)",
   "language": "python",
   "name": "python3"
  },
  "language_info": {
   "codemirror_mode": {
    "name": "ipython",
    "version": 3
   },
   "file_extension": ".py",
   "mimetype": "text/x-python",
   "name": "python",
   "nbconvert_exporter": "python",
   "pygments_lexer": "ipython3",
   "version": "3.9.7"
  }
 },
 "nbformat": 4,
 "nbformat_minor": 5
}
